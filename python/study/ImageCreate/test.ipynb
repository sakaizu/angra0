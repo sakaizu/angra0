{
 "metadata": {
  "language_info": {
   "codemirror_mode": {
    "name": "ipython",
    "version": 3
   },
   "file_extension": ".py",
   "mimetype": "text/x-python",
   "name": "python",
   "nbconvert_exporter": "python",
   "pygments_lexer": "ipython3",
   "version": "3.7.9"
  },
  "orig_nbformat": 2,
  "kernelspec": {
   "name": "python379jvsc74a57bd05d87b42201e74ac320bc00dce267d44f5f134edfec9046f67f672f289707ff6a",
   "display_name": "Python 3.7.9 64-bit"
  },
  "metadata": {
   "interpreter": {
    "hash": "31f2aee4e71d21fbe5cf8b01ff0e069b9275f58929596ceb00d14d90e3e16cd6"
   }
  }
 },
 "nbformat": 4,
 "nbformat_minor": 2,
 "cells": [
  {
   "cell_type": "code",
   "execution_count": 3,
   "metadata": {},
   "outputs": [
    {
     "output_type": "stream",
     "name": "stdout",
     "text": [
      "row count =  10000\ncols count =  31\n"
     ]
    },
    {
     "output_type": "display_data",
     "data": {
      "text/plain": "      Position.X  Position.Y  Position.Z\n0     -22.054148  -55.071224   28.046110\n1      61.087585  -80.087685   -4.553839\n2      -4.055537   64.747047   64.427719\n3     -60.822147  -54.736179  113.140396\n4    -102.435883  -50.782829   86.823120\n...          ...         ...         ...\n9995  -89.841805  -29.982773   38.041824\n9996  -76.263519  -49.832062  121.422729\n9997   -2.101588   41.839584   56.373257\n9998  -29.342693   -1.463546  116.971123\n9999  -30.307167   48.484161   82.320976\n\n[10000 rows x 3 columns]",
      "text/html": "<div>\n<style scoped>\n    .dataframe tbody tr th:only-of-type {\n        vertical-align: middle;\n    }\n\n    .dataframe tbody tr th {\n        vertical-align: top;\n    }\n\n    .dataframe thead th {\n        text-align: right;\n    }\n</style>\n<table border=\"1\" class=\"dataframe\">\n  <thead>\n    <tr style=\"text-align: right;\">\n      <th></th>\n      <th>Position.X</th>\n      <th>Position.Y</th>\n      <th>Position.Z</th>\n    </tr>\n  </thead>\n  <tbody>\n    <tr>\n      <th>0</th>\n      <td>-22.054148</td>\n      <td>-55.071224</td>\n      <td>28.046110</td>\n    </tr>\n    <tr>\n      <th>1</th>\n      <td>61.087585</td>\n      <td>-80.087685</td>\n      <td>-4.553839</td>\n    </tr>\n    <tr>\n      <th>2</th>\n      <td>-4.055537</td>\n      <td>64.747047</td>\n      <td>64.427719</td>\n    </tr>\n    <tr>\n      <th>3</th>\n      <td>-60.822147</td>\n      <td>-54.736179</td>\n      <td>113.140396</td>\n    </tr>\n    <tr>\n      <th>4</th>\n      <td>-102.435883</td>\n      <td>-50.782829</td>\n      <td>86.823120</td>\n    </tr>\n    <tr>\n      <th>...</th>\n      <td>...</td>\n      <td>...</td>\n      <td>...</td>\n    </tr>\n    <tr>\n      <th>9995</th>\n      <td>-89.841805</td>\n      <td>-29.982773</td>\n      <td>38.041824</td>\n    </tr>\n    <tr>\n      <th>9996</th>\n      <td>-76.263519</td>\n      <td>-49.832062</td>\n      <td>121.422729</td>\n    </tr>\n    <tr>\n      <th>9997</th>\n      <td>-2.101588</td>\n      <td>41.839584</td>\n      <td>56.373257</td>\n    </tr>\n    <tr>\n      <th>9998</th>\n      <td>-29.342693</td>\n      <td>-1.463546</td>\n      <td>116.971123</td>\n    </tr>\n    <tr>\n      <th>9999</th>\n      <td>-30.307167</td>\n      <td>48.484161</td>\n      <td>82.320976</td>\n    </tr>\n  </tbody>\n</table>\n<p>10000 rows × 3 columns</p>\n</div>"
     },
     "metadata": {}
    }
   ],
   "source": [
    "import numpy as np\n",
    "import time\n",
    "import pandas as pd\n",
    "\n",
    "\n",
    "CsvData = pd.read_csv(\"exportCsv.csv\")\n",
    "\n",
    "data = CsvData.iloc[0:10000]\n",
    "\n",
    "# target = data.pop(\"Position.Z\")\n",
    "Posdata = data.iloc[:, 13:15]\n",
    "\n",
    "datanp = np.asarray(Posdata)\n",
    "\n",
    "# display(data['Position.X'])\n",
    "\n",
    "print(\"row count = \", data.shape[0])\n",
    "print(\"cols count = \", data.shape[1])\n",
    "\n",
    "display(data.loc[:, ('Position.X', 'Position.Y', 'Position.Z')])\n",
    "\n"
   ]
  },
  {
   "cell_type": "code",
   "execution_count": 11,
   "metadata": {},
   "outputs": [
    {
     "output_type": "stream",
     "name": "stdout",
     "text": [
      "        Age   Color.R   Color.G  Color.B   Color.A  Initial.Color.R  \\\n0      1.05  0.565069  1.382478      2.0  0.007822         0.282534   \n1      1.05  0.565069  1.382478      2.0  0.005407         0.282534   \n2      1.05  0.565069  1.382478      2.0  0.004902         0.282534   \n3      1.05  0.565069  1.382478      2.0  0.006916         0.282534   \n4      1.05  0.565069  1.382478      2.0  0.004548         0.282534   \n...     ...       ...       ...      ...       ...              ...   \n99995  1.05  0.565069  1.382478      2.0  0.004650         0.282534   \n99996  1.05  0.565069  1.382478      2.0  0.006468         0.282534   \n99997  1.05  0.565069  1.382478      2.0  0.007917         0.282534   \n99998  1.05  0.565069  1.382478      2.0  0.008718         0.282534   \n99999  1.05  0.565069  1.382478      2.0  0.006865         0.282534   \n\n       Initial.Color.G  Initial.Color.B  Initial.Color.A  \\\n0             0.691239              1.0              1.0   \n1             0.691239              1.0              1.0   \n2             0.691239              1.0              1.0   \n3             0.691239              1.0              1.0   \n4             0.691239              1.0              1.0   \n...                ...              ...              ...   \n99995         0.691239              1.0              1.0   \n99996         0.691239              1.0              1.0   \n99997         0.691239              1.0              1.0   \n99998         0.691239              1.0              1.0   \n99999         0.691239              1.0              1.0   \n\n       Initial.SpriteSize.X  ...   Scale.X   Scale.Y   Scale.Z  \\\n0                  4.506525  ...  4.506525  4.506525  4.506525   \n1                  5.529887  ...  5.529887  5.529887  5.529887   \n2                  5.420168  ...  5.420168  5.420168  5.420168   \n3                  3.355437  ...  3.355437  3.355437  3.355437   \n4                  7.689452  ...  7.689452  7.689452  7.689452   \n...                     ...  ...       ...       ...       ...   \n99995              6.328267  ...  6.328267  6.328267  6.328267   \n99996              6.595379  ...  6.595379  6.595379  6.595379   \n99997              3.508976  ...  3.508976  3.508976  3.508976   \n99998              4.257322  ...  4.257322  4.257322  4.257322   \n99999              5.079155  ...  5.079155  5.079155  5.079155   \n\n       SpriteRotation  SpriteSize.X  SpriteSize.Y  UniqueID  Velocity.X  \\\n0          278.051788      4.506525     14.480165     13952   91.850426   \n1          106.711044      5.529887     15.709756     13953   -2.023352   \n2          224.740768      5.420168     20.851580     13954   20.959517   \n3          217.744171      3.355437     10.321438     13955   15.398107   \n4          338.082214      7.689452     20.957466     13956  -45.096420   \n...               ...           ...           ...       ...         ...   \n99995       47.726391      6.328267     20.634727     36443   12.856486   \n99996      252.905182      6.595379     15.331215     36444   -7.747797   \n99997      142.734909      3.508976     11.472433     36445   33.644001   \n99998      273.745667      4.257322     14.177942     36446  -44.066490   \n99999      184.580246      5.079155     15.199333     36447    0.360120   \n\n       Velocity.Y  Velocity.Z  \n0        5.703462   10.309332  \n1      -60.775021  -39.441959  \n2       28.336288  121.872620  \n3       22.568455   80.691223  \n4      -42.289749   23.789272  \n...           ...         ...  \n99995   15.902791   92.951302  \n99996  -36.705612  -24.065016  \n99997  -11.615913   88.776886  \n99998  -74.846230   47.368759  \n99999  -28.308821   75.544548  \n\n[100000 rows x 31 columns]\n"
     ]
    }
   ],
   "source": [
    "import clipboard\n",
    "import csv\n",
    "\n",
    "copydata = pd.read_clipboard()\n",
    "copydata.to_csv('exportCsv.csv', header = True, index = False)\n"
   ]
  },
  {
   "cell_type": "code",
   "execution_count": null,
   "metadata": {},
   "outputs": [],
   "source": []
  }
 ]
}